{
  "cells": [
    {
      "cell_type": "markdown",
      "source": [
        "# FUNCTIONS"
      ],
      "metadata": {
        "id": "7GRFMfjcs1w9"
      }
    },
    {
      "cell_type": "markdown",
      "source": [
        "1.QUES\n",
        "\n",
        "\n",
        " ANS..  In Python, functions and methods are very similar in that both are blocks of reusable code that perform a specific task. However, there are important distinctions between the two based on how and where they're used:\n",
        "\n",
        "\n",
        "\n",
        "\n",
        "EXAMPLE>>\n",
        "\n",
        "def greet(name):\n",
        "    return f\"Hello, {name}!\"\n",
        "\n",
        "print(greet(\"Alice\"))  # Output: Hello, Alice!\n",
        "\n"
      ],
      "metadata": {
        "id": "oVK6w7mhs7Mr"
      }
    },
    {
      "cell_type": "markdown",
      "source": [
        "2.QUES\n",
        "\n",
        "ANS..🔹 function arguement>>An argument is the actual value you pass to a function when you call it.\n",
        "\n",
        "EXAMP>>\n",
        "\n",
        "         greet(\"Alice\")  # \"Alice\" is an argument\n",
        "\n",
        "\n",
        "\n",
        "\n",
        "🔹  Parameters in Python?\n",
        "     \n",
        "     In Python, parameters are the variables listed in the function definition.\n",
        "      They define what kind of data a function expects to receive when it is called.\n",
        "\n",
        "EXAMP>>\n",
        "\n",
        "def greet(name):  # 'name' is a parameter\n",
        "    print(f\"Hello, {name}!\")\n",
        "\n",
        "\n",
        "\n",
        "\n",
        "\n",
        "\n",
        "\n"
      ],
      "metadata": {
        "id": "bGlNP6iDui2B"
      }
    },
    {
      "cell_type": "markdown",
      "source": [
        "3.QUES\n",
        "\n",
        "ANS..🔹 Ways to Define Functions in Python\n",
        "\n",
        ">>1. Standard Function Definition (with def)\n",
        "\n",
        "EXAMP>>\n",
        "           \n",
        "           def greet(name):\n",
        "    print(f\"Hello, {name}!\")\n",
        "\n",
        "\n",
        "                2. Function with Default Parameters\n",
        "\n",
        " EXAMP>>\n",
        "\n",
        "                def greet(name=\"Guest\"):\n",
        "    print(f\"Hello, {name}!\")\n",
        "\n",
        "\n",
        "\n",
        "                 3. Lambda Function (Anonymous Function)\n",
        "\n",
        "EXAMP>>\n",
        "\n",
        "                 square = lambda x: x * x\n",
        "\n",
        "\n",
        " 🔹 Ways to Call Functions in Python\n",
        "    \n",
        "\n",
        "\n",
        "1. Positional Arguments\n",
        "\n",
        "EXAMP>>\n",
        "\n",
        "def greet(name, age):\n",
        "    print(f\"{name} is {age} years old.\")\n",
        "\n",
        "greet(\"Alice\", 30)\n",
        "\n",
        "\n",
        "2. Keyword Arguments\n",
        "\n",
        "EXAMP>>\n",
        "\n",
        "greet(age=30, name=\"Alice\")\n",
        "\n",
        "3. Default Parameters in Use\n",
        "\n",
        "EXAMP>>\n",
        "\n",
        "def greet(name=\"Guest\"):\n",
        "    print(f\"Hello, {name}!\")\n",
        "\n",
        "greet()            # Uses default\n",
        "greet(\"Charlie\")   # Overrides default\n",
        "\n",
        "\n",
        "\n",
        "\n",
        "\n"
      ],
      "metadata": {
        "id": "2ubHMlqExMut"
      }
    },
    {
      "cell_type": "markdown",
      "source": [
        "4.QUES\n",
        "\n",
        "ANS..The return statement in Python is used to send a value back from a function to the caller. It ends the function and outputs a result that you can store, print, or use in other operations.            \n",
        "\n",
        "\n",
        "EXAMP>>\n",
        "\n",
        "def add(a, b):\n",
        "    return a + b\n",
        "\n",
        "result = add(3, 4)\n",
        "print(result)  # Output: 7\n",
        "\n",
        "\n",
        "\n"
      ],
      "metadata": {
        "id": "XT7_SVK404Qe"
      }
    },
    {
      "cell_type": "markdown",
      "source": [
        "5.QUES\n",
        "\n",
        "ANS..🔹..An iterator is an object that keeps state and produces the next value when you call the next() function.\n",
        "\n",
        "✅ Example of Creating an Iterator:\n",
        "\n",
        "\n",
        "my_list = [1, 2, 3]\n",
        "my_iter = iter(my_list)  # create an iterator from the list\n",
        "\n",
        "print(next(my_iter))  # 1\n",
        "print(next(my_iter))  # 2\n",
        "print(next(my_iter))  # 3\n",
        "# next(my_iter) -> raises StopIteration\n",
        "\n",
        "\n",
        "\n"
      ],
      "metadata": {
        "id": "ph7KcdVq35dJ"
      }
    },
    {
      "cell_type": "markdown",
      "source": [
        "6.QUES\n",
        "\n",
        "ANS..In Python, generators are a special type of iterator that allow you to iterate over data without storing the entire dataset in memory. They are useful for working with large datasets or streams of data where you want to process items one at a time, on the fly.\n",
        "\n",
        "\n",
        "How Generators Are Defined..\n",
        "\n",
        "1. Generator Functions>>A generator function is defined like a regular function but uses the yield keyword.\n",
        "\n",
        "example>>\n",
        "\n",
        "\n",
        "def count_up_to(n):\n",
        "    count = 1\n",
        "    while count <= n:\n",
        "        yield count\n",
        "        count += 1\n",
        "\n",
        "\n",
        "\n",
        "2. Generator Expressions>>These are similar to list comprehensions but use parentheses instead of square brackets.\n",
        "\n",
        "example>>gen = (x * x for x in range(5))\n",
        "\n",
        "for num in gen:\n",
        "    print(num)\n",
        "\n",
        "\n",
        "Output:\n",
        "0\n",
        "1\n",
        "4\n",
        "9\n",
        "16\n",
        "\n",
        "\n",
        "\n",
        "\n",
        "\n",
        "\n",
        "\n",
        "\n"
      ],
      "metadata": {
        "id": "At8CqslyXTSg"
      }
    },
    {
      "cell_type": "markdown",
      "source": [
        "7.QUES\n",
        "\n",
        "ANS..Here are the key advantages of generators over regular functions:\n",
        "\n",
        "✅ 1. Memory Efficiency\n",
        "\n",
        "Regular functions that return a list (or another data structure) generate and store all the results in memory. Generators, on the other hand, yield items one at a time, so they don’t require memory for the entire output.\n",
        "\n",
        "example>>\n",
        "\n",
        "def create_list(n):\n",
        "    return [i for i in range(n)]  # Allocates memory for all n items\n",
        "\n",
        "def create_generator(n):\n",
        "    for i in range(n):\n",
        "        yield i  # Yields one item at a time\n",
        "\n",
        " ✅ 2. Lazy Evaluation\n",
        "\n",
        "Generators are evaluated only when needed. They don’t do any work until you start iterating over them, and they stop as soon as the iteration stops.\n",
        "\n",
        "example>>Short-circuiting operations (e.g., early exits in loops)\n",
        "\n",
        "✅ 3. Improved Performance (in some cases)\n",
        "\n",
        "Because generators yield items one by one, you avoid the overhead of building full data structures. This can lead to faster performance when you don't need all results at once.\n",
        "\n"
      ],
      "metadata": {
        "id": "wOqE9iGJZBH3"
      }
    },
    {
      "cell_type": "markdown",
      "source": [
        "8.QUES\n",
        "\n",
        "ANS..A lambda function in Python is a small, anonymous (unnamed) function defined using the lambda keyword. It can take any number of arguments but can only have a single expression.\n",
        "\n",
        "🔹 Typical Use Cases of Lambda Functions\n",
        "\n",
        "Lambda functions are usually used where short, throwaway functions are needed, especially as arguments to higher-order functions like map(), filter(), or sorted().\n",
        "\n",
        "✅ 1. With map() – Apply a function to each item in an iterable\n",
        "\n",
        "examp>>        squares = list(map(lambda x: x**2, [1, 2, 3, 4]))\n",
        "# Output: [1, 4, 9, 16]\n",
        "\n",
        "\n",
        "✅ 2. With filter() – Filter items based on a condition\n",
        "\n",
        "examp>>  evens = list(filter(lambda x: x % 2 == 0, range(10)))\n",
        "# Output: [0, 2, 4, 6, 8]\n",
        "\n",
        "✅ 3. With sorted() – Custom sort key\n",
        "\n",
        "examp>>  pairs = [(1, 2), (3, 1), (5, 0)]\n",
        "sorted_pairs = sorted(pairs, key=lambda x: x[1])\n",
        "# Output: [(5, 0), (3, 1), (1, 2)]\n",
        "\n",
        "✅ 4. With functools (e.g., reduce())\n",
        "\n",
        "examp>>\n",
        "\n",
        "from functools import reduce\n",
        "product = reduce(lambda x, y: x * y, [1, 2, 3, 4])\n",
        "# Output: 24\n",
        "\n",
        "\n"
      ],
      "metadata": {
        "id": "QotiRf9QaOd1"
      }
    },
    {
      "cell_type": "markdown",
      "source": [
        "9.QUES\n",
        "\n",
        "ANS..   The map() function in Python is used to apply a function to every item in an iterable (like a list, tuple, etc.) and returns a new iterator with the results.\n",
        "\n",
        "🔹 Purpose of map()\n",
        "\n",
        "The primary purpose of map() is to simplify the process of transforming or modifying each element in an iterable, without using explicit loops.\n",
        "\n",
        "example>>\n",
        "\n",
        "numbers = [1, 2, 3, 4]\n",
        "squared = map(lambda x: x ** 2, numbers)\n",
        "\n",
        "print(list(squared))  # Output: [1, 4, 9, 16]\n",
        "\n",
        "  \n"
      ],
      "metadata": {
        "id": "7iuNaq4VcAMU"
      }
    },
    {
      "cell_type": "markdown",
      "source": [
        "10.QUES\n",
        "\n",
        "ANS..The map(), reduce(), and filter() functions in Python are built-in functional programming tools that operate on iterables. While they all apply a function to elements of an iterable, they do so in different ways and for different purposes.\n",
        "\n",
        "🔍 1. map()\n",
        "Applies a function to each item in an iterable and returns a new iterable (a map object).\n",
        "\n",
        "🔹 Example:\n",
        "\n",
        "nums = [1, 2, 3, 4]\n",
        "squares = list(map(lambda x: x**2, nums))\n",
        "# Output: [1, 4, 9, 16]\n",
        "\n",
        "🔍 2. filter()\n",
        "\n",
        "Applies a function to each item and filters out those for which the function returns False.\n",
        "\n",
        "🔹 Example:\n",
        "\n",
        "nums = [1, 2, 3, 4, 5]\n",
        "evens = list(filter(lambda x: x % 2 == 0, nums))\n",
        "# Output: [2, 4]\n",
        "\n",
        "🔍 3. reduce()\n",
        "\n",
        "Applies a function cumulatively to the items of an iterable, reducing it to a single value.\n",
        "\n",
        "🔹 Example:\n",
        "\n",
        "from functools import reduce\n",
        "nums = [1, 2, 3, 4]\n",
        "product = reduce(lambda x, y: x * y, nums)\n",
        "# Output: 24\n"
      ],
      "metadata": {
        "id": "NhkmwpkFdMPU"
      }
    },
    {
      "cell_type": "markdown",
      "source": [
        "11.QUES\n",
        "\n",
        "ANS..Title: Reduce Function to Sum a List\n",
        "\n",
        "List: [47, 11, 42, 13]\n",
        "\n",
        "Function: lambda x, y: x + y\n",
        "\n",
        "Initial List: [47, 11, 42, 13]\n",
        "\n",
        "Step 1:\n",
        "47 + 11 = 58\n",
        "\n",
        "Step 2:\n",
        "58 + 42 = 100\n",
        "\n",
        "Step 3:\n",
        "100 + 13 = 113\n",
        "\n",
        "Final Result: 113\n"
      ],
      "metadata": {
        "id": "-A_2Uppde4VA"
      }
    },
    {
      "cell_type": "code",
      "source": [
        "from google.colab import files\n",
        "from IPython.display import Image, display\n",
        "\n",
        "uploaded = files.upload()  # Opens a file picker\n",
        "\n",
        "# Display the first uploaded image\n",
        "for fn in uploaded.keys():\n",
        "    display(Image(filename=fn))\n",
        "    break\n"
      ],
      "metadata": {
        "colab": {
          "base_uri": "https://localhost:8080/",
          "height": 592
        },
        "id": "Cc0zYwY_XkZd",
        "outputId": "36dc151d-e1cc-437a-f464-18baf5e89f37"
      },
      "execution_count": null,
      "outputs": [
        {
          "output_type": "display_data",
          "data": {
            "text/plain": [
              "<IPython.core.display.HTML object>"
            ],
            "text/html": [
              "\n",
              "     <input type=\"file\" id=\"files-8bfa60c7-0884-4629-80d6-bf57c987ca5c\" name=\"files[]\" multiple disabled\n",
              "        style=\"border:none\" />\n",
              "     <output id=\"result-8bfa60c7-0884-4629-80d6-bf57c987ca5c\">\n",
              "      Upload widget is only available when the cell has been executed in the\n",
              "      current browser session. Please rerun this cell to enable.\n",
              "      </output>\n",
              "      <script>// Copyright 2017 Google LLC\n",
              "//\n",
              "// Licensed under the Apache License, Version 2.0 (the \"License\");\n",
              "// you may not use this file except in compliance with the License.\n",
              "// You may obtain a copy of the License at\n",
              "//\n",
              "//      http://www.apache.org/licenses/LICENSE-2.0\n",
              "//\n",
              "// Unless required by applicable law or agreed to in writing, software\n",
              "// distributed under the License is distributed on an \"AS IS\" BASIS,\n",
              "// WITHOUT WARRANTIES OR CONDITIONS OF ANY KIND, either express or implied.\n",
              "// See the License for the specific language governing permissions and\n",
              "// limitations under the License.\n",
              "\n",
              "/**\n",
              " * @fileoverview Helpers for google.colab Python module.\n",
              " */\n",
              "(function(scope) {\n",
              "function span(text, styleAttributes = {}) {\n",
              "  const element = document.createElement('span');\n",
              "  element.textContent = text;\n",
              "  for (const key of Object.keys(styleAttributes)) {\n",
              "    element.style[key] = styleAttributes[key];\n",
              "  }\n",
              "  return element;\n",
              "}\n",
              "\n",
              "// Max number of bytes which will be uploaded at a time.\n",
              "const MAX_PAYLOAD_SIZE = 100 * 1024;\n",
              "\n",
              "function _uploadFiles(inputId, outputId) {\n",
              "  const steps = uploadFilesStep(inputId, outputId);\n",
              "  const outputElement = document.getElementById(outputId);\n",
              "  // Cache steps on the outputElement to make it available for the next call\n",
              "  // to uploadFilesContinue from Python.\n",
              "  outputElement.steps = steps;\n",
              "\n",
              "  return _uploadFilesContinue(outputId);\n",
              "}\n",
              "\n",
              "// This is roughly an async generator (not supported in the browser yet),\n",
              "// where there are multiple asynchronous steps and the Python side is going\n",
              "// to poll for completion of each step.\n",
              "// This uses a Promise to block the python side on completion of each step,\n",
              "// then passes the result of the previous step as the input to the next step.\n",
              "function _uploadFilesContinue(outputId) {\n",
              "  const outputElement = document.getElementById(outputId);\n",
              "  const steps = outputElement.steps;\n",
              "\n",
              "  const next = steps.next(outputElement.lastPromiseValue);\n",
              "  return Promise.resolve(next.value.promise).then((value) => {\n",
              "    // Cache the last promise value to make it available to the next\n",
              "    // step of the generator.\n",
              "    outputElement.lastPromiseValue = value;\n",
              "    return next.value.response;\n",
              "  });\n",
              "}\n",
              "\n",
              "/**\n",
              " * Generator function which is called between each async step of the upload\n",
              " * process.\n",
              " * @param {string} inputId Element ID of the input file picker element.\n",
              " * @param {string} outputId Element ID of the output display.\n",
              " * @return {!Iterable<!Object>} Iterable of next steps.\n",
              " */\n",
              "function* uploadFilesStep(inputId, outputId) {\n",
              "  const inputElement = document.getElementById(inputId);\n",
              "  inputElement.disabled = false;\n",
              "\n",
              "  const outputElement = document.getElementById(outputId);\n",
              "  outputElement.innerHTML = '';\n",
              "\n",
              "  const pickedPromise = new Promise((resolve) => {\n",
              "    inputElement.addEventListener('change', (e) => {\n",
              "      resolve(e.target.files);\n",
              "    });\n",
              "  });\n",
              "\n",
              "  const cancel = document.createElement('button');\n",
              "  inputElement.parentElement.appendChild(cancel);\n",
              "  cancel.textContent = 'Cancel upload';\n",
              "  const cancelPromise = new Promise((resolve) => {\n",
              "    cancel.onclick = () => {\n",
              "      resolve(null);\n",
              "    };\n",
              "  });\n",
              "\n",
              "  // Wait for the user to pick the files.\n",
              "  const files = yield {\n",
              "    promise: Promise.race([pickedPromise, cancelPromise]),\n",
              "    response: {\n",
              "      action: 'starting',\n",
              "    }\n",
              "  };\n",
              "\n",
              "  cancel.remove();\n",
              "\n",
              "  // Disable the input element since further picks are not allowed.\n",
              "  inputElement.disabled = true;\n",
              "\n",
              "  if (!files) {\n",
              "    return {\n",
              "      response: {\n",
              "        action: 'complete',\n",
              "      }\n",
              "    };\n",
              "  }\n",
              "\n",
              "  for (const file of files) {\n",
              "    const li = document.createElement('li');\n",
              "    li.append(span(file.name, {fontWeight: 'bold'}));\n",
              "    li.append(span(\n",
              "        `(${file.type || 'n/a'}) - ${file.size} bytes, ` +\n",
              "        `last modified: ${\n",
              "            file.lastModifiedDate ? file.lastModifiedDate.toLocaleDateString() :\n",
              "                                    'n/a'} - `));\n",
              "    const percent = span('0% done');\n",
              "    li.appendChild(percent);\n",
              "\n",
              "    outputElement.appendChild(li);\n",
              "\n",
              "    const fileDataPromise = new Promise((resolve) => {\n",
              "      const reader = new FileReader();\n",
              "      reader.onload = (e) => {\n",
              "        resolve(e.target.result);\n",
              "      };\n",
              "      reader.readAsArrayBuffer(file);\n",
              "    });\n",
              "    // Wait for the data to be ready.\n",
              "    let fileData = yield {\n",
              "      promise: fileDataPromise,\n",
              "      response: {\n",
              "        action: 'continue',\n",
              "      }\n",
              "    };\n",
              "\n",
              "    // Use a chunked sending to avoid message size limits. See b/62115660.\n",
              "    let position = 0;\n",
              "    do {\n",
              "      const length = Math.min(fileData.byteLength - position, MAX_PAYLOAD_SIZE);\n",
              "      const chunk = new Uint8Array(fileData, position, length);\n",
              "      position += length;\n",
              "\n",
              "      const base64 = btoa(String.fromCharCode.apply(null, chunk));\n",
              "      yield {\n",
              "        response: {\n",
              "          action: 'append',\n",
              "          file: file.name,\n",
              "          data: base64,\n",
              "        },\n",
              "      };\n",
              "\n",
              "      let percentDone = fileData.byteLength === 0 ?\n",
              "          100 :\n",
              "          Math.round((position / fileData.byteLength) * 100);\n",
              "      percent.textContent = `${percentDone}% done`;\n",
              "\n",
              "    } while (position < fileData.byteLength);\n",
              "  }\n",
              "\n",
              "  // All done.\n",
              "  yield {\n",
              "    response: {\n",
              "      action: 'complete',\n",
              "    }\n",
              "  };\n",
              "}\n",
              "\n",
              "scope.google = scope.google || {};\n",
              "scope.google.colab = scope.google.colab || {};\n",
              "scope.google.colab._files = {\n",
              "  _uploadFiles,\n",
              "  _uploadFilesContinue,\n",
              "};\n",
              "})(self);\n",
              "</script> "
            ]
          },
          "metadata": {}
        },
        {
          "output_type": "stream",
          "name": "stdout",
          "text": [
            "Saving Screenshot 2025-05-16 190956.png to Screenshot 2025-05-16 190956.png\n"
          ]
        },
        {
          "output_type": "display_data",
          "data": {
            "image/png": "[encoded data removed]",
            "text/plain": [
              "<IPython.core.display.Image object>"
            ]
          },
          "metadata": {}
        }
      ]
    },
    {
      "cell_type": "markdown",
      "source": [
        "(PRACTICAL QUESTION'S)"
      ],
      "metadata": {
        "id": "v8EuSbKsYZwF"
      }
    },
    {
      "cell_type": "markdown",
      "source": [
        "1.QUES\n",
        "\n",
        "ANS..\n"
      ],
      "metadata": {
        "id": "6zsLCjGBYkDT"
      }
    },
    {
      "cell_type": "code",
      "source": [
        "def sum_even_numbers(numbers):\n",
        "    return sum(num for num in numbers if num % 2 == 0)\n",
        "\n"
      ],
      "metadata": {
        "id": "7CSsNZHsZnOd"
      },
      "execution_count": null,
      "outputs": []
    },
    {
      "cell_type": "markdown",
      "source": [
        "2.QUES\n",
        "\n",
        "\n",
        "ANS.."
      ],
      "metadata": {
        "id": "ArLatB79Zyk8"
      }
    },
    {
      "cell_type": "code",
      "source": [
        "original = \"OpenAI\"\n",
        "reversed_str = reverse_string(original)\n",
        "print(\"Original string:\", original)\n",
        "print(\"Reversed string:\", reversed_str)\n",
        "\n",
        "\n"
      ],
      "metadata": {
        "colab": {
          "base_uri": "https://localhost:8080/"
        },
        "id": "tnVUld3rZ4zz",
        "outputId": "09807095-9c0b-4925-f2a5-27c829e3bf9b"
      },
      "execution_count": null,
      "outputs": [
        {
          "output_type": "stream",
          "name": "stdout",
          "text": [
            "Original string: OpenAI\n",
            "Reversed string: IAnepO\n"
          ]
        }
      ]
    },
    {
      "cell_type": "markdown",
      "source": [
        "3.QUES\n",
        "\n",
        "ANS.."
      ],
      "metadata": {
        "id": "q8QJRqV_aUnY"
      }
    },
    {
      "cell_type": "code",
      "source": [
        "def square_numbers(numbers):\n",
        "    return [x ** 2 for x in numbers]\n",
        "\n",
        "# Example usage:\n",
        "input_list = [1, 2, 3, 4, 5]\n",
        "squared_list = square_numbers(input_list)\n",
        "print(squared_list)  # Output: [1, 4, 9, 16, 25]\n"
      ],
      "metadata": {
        "id": "JKMGllzraXeL",
        "colab": {
          "base_uri": "https://localhost:8080/"
        },
        "outputId": "604ba3f0-f503-4906-eaa4-d8ff27575060"
      },
      "execution_count": null,
      "outputs": [
        {
          "output_type": "stream",
          "name": "stdout",
          "text": [
            "[1, 4, 9, 16, 25]\n"
          ]
        }
      ]
    },
    {
      "cell_type": "markdown",
      "source": [
        "4.QUES\n",
        "\n",
        "ANS.."
      ],
      "metadata": {
        "id": "zffQfbNnMru8"
      }
    },
    {
      "cell_type": "code",
      "source": [
        "def is_prime(n):\n",
        "    if n < 2:\n",
        "        return False  # 0 and 1 are not prime\n",
        "    for i in range(2, int(n ** 0.5) + 1):  # Only check up to the square root of n\n",
        "        if n % i == 0:\n",
        "            return False\n",
        "    return True\n",
        "\n",
        "# Example usage:\n",
        "for num in range(1, 201):\n",
        "    if is_prime(num):\n",
        "        print(f\"{num} is a prime number.\")\n",
        "    else:\n",
        "        print(f\"{num} is not a prime number.\")\n",
        "\n",
        "\n",
        "\n"
      ],
      "metadata": {
        "colab": {
          "base_uri": "https://localhost:8080/"
        },
        "id": "vd90e-_wMwUB",
        "outputId": "07f7ed27-c6bd-47f5-f0c1-e2cec5865dce"
      },
      "execution_count": null,
      "outputs": [
        {
          "output_type": "stream",
          "name": "stdout",
          "text": [
            "1 is not a prime number.\n",
            "2 is a prime number.\n",
            "3 is a prime number.\n",
            "4 is not a prime number.\n",
            "5 is a prime number.\n",
            "6 is not a prime number.\n",
            "7 is a prime number.\n",
            "8 is not a prime number.\n",
            "9 is not a prime number.\n",
            "10 is not a prime number.\n",
            "11 is a prime number.\n",
            "12 is not a prime number.\n",
            "13 is a prime number.\n",
            "14 is not a prime number.\n",
            "15 is not a prime number.\n",
            "16 is not a prime number.\n",
            "17 is a prime number.\n",
            "18 is not a prime number.\n",
            "19 is a prime number.\n",
            "20 is not a prime number.\n",
            "21 is not a prime number.\n",
            "22 is not a prime number.\n",
            "23 is a prime number.\n",
            "24 is not a prime number.\n",
            "25 is not a prime number.\n",
            "26 is not a prime number.\n",
            "27 is not a prime number.\n",
            "28 is not a prime number.\n",
            "29 is a prime number.\n",
            "30 is not a prime number.\n",
            "31 is a prime number.\n",
            "32 is not a prime number.\n",
            "33 is not a prime number.\n",
            "34 is not a prime number.\n",
            "35 is not a prime number.\n",
            "36 is not a prime number.\n",
            "37 is a prime number.\n",
            "38 is not a prime number.\n",
            "39 is not a prime number.\n",
            "40 is not a prime number.\n",
            "41 is a prime number.\n",
            "42 is not a prime number.\n",
            "43 is a prime number.\n",
            "44 is not a prime number.\n",
            "45 is not a prime number.\n",
            "46 is not a prime number.\n",
            "47 is a prime number.\n",
            "48 is not a prime number.\n",
            "49 is not a prime number.\n",
            "50 is not a prime number.\n",
            "51 is not a prime number.\n",
            "52 is not a prime number.\n",
            "53 is a prime number.\n",
            "54 is not a prime number.\n",
            "55 is not a prime number.\n",
            "56 is not a prime number.\n",
            "57 is not a prime number.\n",
            "58 is not a prime number.\n",
            "59 is a prime number.\n",
            "60 is not a prime number.\n",
            "61 is a prime number.\n",
            "62 is not a prime number.\n",
            "63 is not a prime number.\n",
            "64 is not a prime number.\n",
            "65 is not a prime number.\n",
            "66 is not a prime number.\n",
            "67 is a prime number.\n",
            "68 is not a prime number.\n",
            "69 is not a prime number.\n",
            "70 is not a prime number.\n",
            "71 is a prime number.\n",
            "72 is not a prime number.\n",
            "73 is a prime number.\n",
            "74 is not a prime number.\n",
            "75 is not a prime number.\n",
            "76 is not a prime number.\n",
            "77 is not a prime number.\n",
            "78 is not a prime number.\n",
            "79 is a prime number.\n",
            "80 is not a prime number.\n",
            "81 is not a prime number.\n",
            "82 is not a prime number.\n",
            "83 is a prime number.\n",
            "84 is not a prime number.\n",
            "85 is not a prime number.\n",
            "86 is not a prime number.\n",
            "87 is not a prime number.\n",
            "88 is not a prime number.\n",
            "89 is a prime number.\n",
            "90 is not a prime number.\n",
            "91 is not a prime number.\n",
            "92 is not a prime number.\n",
            "93 is not a prime number.\n",
            "94 is not a prime number.\n",
            "95 is not a prime number.\n",
            "96 is not a prime number.\n",
            "97 is a prime number.\n",
            "98 is not a prime number.\n",
            "99 is not a prime number.\n",
            "100 is not a prime number.\n",
            "101 is a prime number.\n",
            "102 is not a prime number.\n",
            "103 is a prime number.\n",
            "104 is not a prime number.\n",
            "105 is not a prime number.\n",
            "106 is not a prime number.\n",
            "107 is a prime number.\n",
            "108 is not a prime number.\n",
            "109 is a prime number.\n",
            "110 is not a prime number.\n",
            "111 is not a prime number.\n",
            "112 is not a prime number.\n",
            "113 is a prime number.\n",
            "114 is not a prime number.\n",
            "115 is not a prime number.\n",
            "116 is not a prime number.\n",
            "117 is not a prime number.\n",
            "118 is not a prime number.\n",
            "119 is not a prime number.\n",
            "120 is not a prime number.\n",
            "121 is not a prime number.\n",
            "122 is not a prime number.\n",
            "123 is not a prime number.\n",
            "124 is not a prime number.\n",
            "125 is not a prime number.\n",
            "126 is not a prime number.\n",
            "127 is a prime number.\n",
            "128 is not a prime number.\n",
            "129 is not a prime number.\n",
            "130 is not a prime number.\n",
            "131 is a prime number.\n",
            "132 is not a prime number.\n",
            "133 is not a prime number.\n",
            "134 is not a prime number.\n",
            "135 is not a prime number.\n",
            "136 is not a prime number.\n",
            "137 is a prime number.\n",
            "138 is not a prime number.\n",
            "139 is a prime number.\n",
            "140 is not a prime number.\n",
            "141 is not a prime number.\n",
            "142 is not a prime number.\n",
            "143 is not a prime number.\n",
            "144 is not a prime number.\n",
            "145 is not a prime number.\n",
            "146 is not a prime number.\n",
            "147 is not a prime number.\n",
            "148 is not a prime number.\n",
            "149 is a prime number.\n",
            "150 is not a prime number.\n",
            "151 is a prime number.\n",
            "152 is not a prime number.\n",
            "153 is not a prime number.\n",
            "154 is not a prime number.\n",
            "155 is not a prime number.\n",
            "156 is not a prime number.\n",
            "157 is a prime number.\n",
            "158 is not a prime number.\n",
            "159 is not a prime number.\n",
            "160 is not a prime number.\n",
            "161 is not a prime number.\n",
            "162 is not a prime number.\n",
            "163 is a prime number.\n",
            "164 is not a prime number.\n",
            "165 is not a prime number.\n",
            "166 is not a prime number.\n",
            "167 is a prime number.\n",
            "168 is not a prime number.\n",
            "169 is not a prime number.\n",
            "170 is not a prime number.\n",
            "171 is not a prime number.\n",
            "172 is not a prime number.\n",
            "173 is a prime number.\n",
            "174 is not a prime number.\n",
            "175 is not a prime number.\n",
            "176 is not a prime number.\n",
            "177 is not a prime number.\n",
            "178 is not a prime number.\n",
            "179 is a prime number.\n",
            "180 is not a prime number.\n",
            "181 is a prime number.\n",
            "182 is not a prime number.\n",
            "183 is not a prime number.\n",
            "184 is not a prime number.\n",
            "185 is not a prime number.\n",
            "186 is not a prime number.\n",
            "187 is not a prime number.\n",
            "188 is not a prime number.\n",
            "189 is not a prime number.\n",
            "190 is not a prime number.\n",
            "191 is a prime number.\n",
            "192 is not a prime number.\n",
            "193 is a prime number.\n",
            "194 is not a prime number.\n",
            "195 is not a prime number.\n",
            "196 is not a prime number.\n",
            "197 is a prime number.\n",
            "198 is not a prime number.\n",
            "199 is a prime number.\n",
            "200 is not a prime number.\n"
          ]
        }
      ]
    },
    {
      "cell_type": "markdown",
      "source": [
        "5.QUES\n",
        "\n",
        "ANS.."
      ],
      "metadata": {
        "id": "eyVmUlKFNeGs"
      }
    },
    {
      "cell_type": "code",
      "source": [
        "class FibonacciIterator:\n",
        "    def __init__(self, max_terms):\n",
        "        self.max_terms = max_terms\n",
        "        self.count = 0\n",
        "        self.a, self.b = 0, 1\n",
        "\n",
        "    def __iter__(self):\n",
        "        return self\n",
        "\n",
        "    def __next__(self):\n",
        "        if self.count >= self.max_terms:\n",
        "            raise StopIteration\n",
        "        if self.count == 0:\n",
        "            self.count += 1\n",
        "            return 0\n",
        "        elif self.count == 1:\n",
        "            self.count += 1\n",
        "            return 1\n",
        "        else:\n",
        "            self.a, self.b = self.b, self.a + self.b\n",
        "            self.count += 1\n",
        "            return self.a\n",
        "\n",
        "# Example usage:\n",
        "fib = FibonacciIterator(10)\n",
        "for num in fib:\n",
        "    print(num)\n",
        "\n",
        "\n",
        "\n",
        "\n"
      ],
      "metadata": {
        "colab": {
          "base_uri": "https://localhost:8080/"
        },
        "id": "YwNcH6lCNiwG",
        "outputId": "32723ddd-4fb8-4a8e-cc94-e61546d4fd77"
      },
      "execution_count": null,
      "outputs": [
        {
          "output_type": "stream",
          "name": "stdout",
          "text": [
            "0\n",
            "1\n",
            "1\n",
            "1\n",
            "2\n",
            "3\n",
            "5\n",
            "8\n",
            "13\n",
            "21\n"
          ]
        }
      ]
    },
    {
      "cell_type": "markdown",
      "source": [
        "6.QUES\n",
        "\n",
        "ANS.."
      ],
      "metadata": {
        "id": "RpnGx8uEOQkf"
      }
    },
    {
      "cell_type": "code",
      "source": [
        "def powers_of_two(max_exponent):\n",
        "    for exponent in range(max_exponent + 1):\n",
        "        yield 2 ** exponent\n",
        "\n",
        "# Example usage:\n",
        "for value in powers_of_two(5):\n",
        "    print(value)\n",
        "\n"
      ],
      "metadata": {
        "colab": {
          "base_uri": "https://localhost:8080/"
        },
        "id": "aD_NYpF3OTvR",
        "outputId": "80c8ad05-85f0-4722-f64f-a17827b0314c"
      },
      "execution_count": null,
      "outputs": [
        {
          "output_type": "stream",
          "name": "stdout",
          "text": [
            "1\n",
            "2\n",
            "4\n",
            "8\n",
            "16\n",
            "32\n"
          ]
        }
      ]
    },
    {
      "cell_type": "markdown",
      "source": [
        "7.QUES\n",
        "\n",
        "ANS..\n"
      ],
      "metadata": {
        "id": "lHcYCOmVPJFt"
      }
    },
    {
      "cell_type": "code",
      "source": [
        "def read_file_line_by_line(file_path):\n",
        "    with open(file_path, 'r') as file:\n",
        "        for line in file:\n",
        "            yield line.strip()  # .strip() removes newline characters\n",
        "\n"
      ],
      "metadata": {
        "id": "Df_vOyc0PgPb"
      },
      "execution_count": null,
      "outputs": []
    },
    {
      "cell_type": "markdown",
      "source": [
        "8.QUES\n",
        "\n",
        "ANS.."
      ],
      "metadata": {
        "id": "SQcsBw3BQLDd"
      }
    },
    {
      "cell_type": "code",
      "source": [
        "# Sample list of tuples\n",
        "data = [(1, 3), (4, 1), (2, 5), (3, 2)]\n",
        "\n",
        "# Sort using a lambda function based on the second element\n",
        "sorted_data = sorted(data, key=lambda x: x[1])\n",
        "\n",
        "print(sorted_data)\n"
      ],
      "metadata": {
        "colab": {
          "base_uri": "https://localhost:8080/"
        },
        "id": "2tBo_wdCQOPv",
        "outputId": "46dc641b-9a85-4c52-923a-0e7b8fe816a0"
      },
      "execution_count": null,
      "outputs": [
        {
          "output_type": "stream",
          "name": "stdout",
          "text": [
            "[(4, 1), (3, 2), (1, 3), (2, 5)]\n"
          ]
        }
      ]
    },
    {
      "cell_type": "markdown",
      "source": [
        "9.QUES\n",
        "\n",
        "ANS.."
      ],
      "metadata": {
        "id": "92oxf3vsQjqX"
      }
    },
    {
      "cell_type": "code",
      "source": [
        "# List of temperatures in Celsius\n",
        "celsius_temps = [0, 20, 37, 100]\n",
        "\n",
        "# Convert to Fahrenheit using map() and lambda\n",
        "fahrenheit_temps = list(map(lambda c: (c * 9/5) + 32, celsius_temps))\n",
        "\n",
        "# Print the results\n",
        "print(\"Celsius:\", celsius_temps)\n",
        "print(\"Fahrenheit:\", fahrenheit_temps)\n"
      ],
      "metadata": {
        "colab": {
          "base_uri": "https://localhost:8080/"
        },
        "id": "qCj12FzQQoAA",
        "outputId": "6e5a1d6b-490b-4454-946e-5e619f01448e"
      },
      "execution_count": null,
      "outputs": [
        {
          "output_type": "stream",
          "name": "stdout",
          "text": [
            "Celsius: [0, 20, 37, 100]\n",
            "Fahrenheit: [32.0, 68.0, 98.6, 212.0]\n"
          ]
        }
      ]
    },
    {
      "cell_type": "markdown",
      "source": [
        "10.QUES\n",
        "\n",
        "ANS.."
      ],
      "metadata": {
        "id": "1lgadZn0RAR2"
      }
    },
    {
      "cell_type": "code",
      "source": [
        "def remove_vowels(input_str):\n",
        "    vowels = 'aeiouAEIOU'\n",
        "    return ''.join(filter(lambda ch: ch not in vowels, input_str))\n",
        "\n",
        "# Example usage\n",
        "text = \"Hello, World! This is a test.\"\n",
        "result = remove_vowels(text)\n",
        "\n",
        "print(\"Original:\", text)\n",
        "print(\"Without vowels:\", result)"
      ],
      "metadata": {
        "colab": {
          "base_uri": "https://localhost:8080/"
        },
        "id": "NcMMhqv-REjl",
        "outputId": "f3546418-19e1-4fc0-c2cb-ce089930edb1"
      },
      "execution_count": null,
      "outputs": [
        {
          "output_type": "stream",
          "name": "stdout",
          "text": [
            "Original: Hello, World! This is a test.\n",
            "Without vowels: Hll, Wrld! Ths s  tst.\n"
          ]
        }
      ]
    },
    {
      "cell_type": "code",
      "source": [
        "\n",
        "\n",
        "# Given book shop data\n",
        "orders = [\n",
        "    [34587, \"Learning Python, Mark Lutz\", 4, 40.95],\n",
        "    [98762, \"Programming Python, Mark Lutz\", 5, 56.80],\n",
        "    [77226, \"Head First Python, Paul Barry\", 3, 32.95],\n",
        "    [88112, \"Einführung in Python3, Bernd Klein\", 3, 24.99]\n",
        "]\n",
        "\n",
        "# Use map and lambda to compute the result\n",
        "result = list(map(lambda order:\n",
        "    (order[0], round(order[2] * order[3] + (10 if order[2] * order[3] < 100 else 0), 2)),\n",
        "    orders\n",
        "))\n",
        "\n",
        "print(result)"
      ],
      "metadata": {
        "colab": {
          "base_uri": "https://localhost:8080/"
        },
        "id": "VjSobSU8U-DW",
        "outputId": "9a24dbdd-7f8d-4c54-949b-8f05cb679fec"
      },
      "execution_count": null,
      "outputs": [
        {
          "output_type": "stream",
          "name": "stdout",
          "text": [
            "[(34587, 163.8), (98762, 284.0), (77226, 108.85), (88112, 84.97)]\n"
          ]
        }
      ]
    }
  ],
  "metadata": {
    "colab": {
      "provenance": []
    },
    "kernelspec": {
      "display_name": "Python 3",
      "name": "python3"
    }
  },
  "nbformat": 4,
  "nbformat_minor": 0
}